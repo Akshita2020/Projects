{
 "cells": [
  {
   "cell_type": "code",
   "execution_count": 28,
   "id": "3a17974c-7370-4c66-b5cc-73ed164e9fa5",
   "metadata": {},
   "outputs": [],
   "source": [
    "import random"
   ]
  },
  {
   "cell_type": "code",
   "execution_count": 32,
   "id": "491b16b8-c712-4f2c-b693-6f97617203f7",
   "metadata": {},
   "outputs": [
    {
     "name": "stdin",
     "output_type": "stream",
     "text": [
      "Enter your guess: 5\n"
     ]
    }
   ],
   "source": [
    "number = int(input(\"Enter your guess:\"))\n",
    "A = random.randint(0,10)\n",
    "\n",
    "while(number == A):\n",
    "    if (number>A):\n",
    "        print(\"TOO HIGH\")\n",
    "    elif (number<A):\n",
    "        print(\"TOO LOW\")\n",
    "    else:\n",
    "        print(\"YOU GUESSED IT!\")"
   ]
  },
  {
   "cell_type": "code",
   "execution_count": 49,
   "id": "594e86e6-8800-4b60-a78d-3c4150dafeba",
   "metadata": {},
   "outputs": [
    {
     "name": "stdin",
     "output_type": "stream",
     "text": [
      "Enter your guess: 5\n"
     ]
    },
    {
     "name": "stdout",
     "output_type": "stream",
     "text": [
      "TOO LOW, TRY AGAIN!\n"
     ]
    },
    {
     "name": "stdin",
     "output_type": "stream",
     "text": [
      "Enter your guess: 8\n"
     ]
    },
    {
     "name": "stdout",
     "output_type": "stream",
     "text": [
      "TOO LOW, TRY AGAIN!\n"
     ]
    },
    {
     "name": "stdin",
     "output_type": "stream",
     "text": [
      "Enter your guess: 9\n"
     ]
    },
    {
     "name": "stdout",
     "output_type": "stream",
     "text": [
      "TOO LOW, TRY AGAIN!\n"
     ]
    },
    {
     "name": "stdin",
     "output_type": "stream",
     "text": [
      "Enter your guess: 90\n"
     ]
    },
    {
     "name": "stdout",
     "output_type": "stream",
     "text": [
      "TOO HIGH, TRY AGAIN!\n"
     ]
    },
    {
     "name": "stdin",
     "output_type": "stream",
     "text": [
      "Enter your guess: 80\n"
     ]
    },
    {
     "name": "stdout",
     "output_type": "stream",
     "text": [
      "TOO HIGH, TRY AGAIN!\n"
     ]
    },
    {
     "name": "stdin",
     "output_type": "stream",
     "text": [
      "Enter your guess: 70\n"
     ]
    },
    {
     "name": "stdout",
     "output_type": "stream",
     "text": [
      "TOO HIGH, TRY AGAIN!\n"
     ]
    },
    {
     "name": "stdin",
     "output_type": "stream",
     "text": [
      "Enter your guess: 60\n"
     ]
    },
    {
     "name": "stdout",
     "output_type": "stream",
     "text": [
      "TOO HIGH, TRY AGAIN!\n"
     ]
    },
    {
     "name": "stdin",
     "output_type": "stream",
     "text": [
      "Enter your guess: 50\n"
     ]
    },
    {
     "name": "stdout",
     "output_type": "stream",
     "text": [
      "TOO HIGH, TRY AGAIN!\n"
     ]
    },
    {
     "name": "stdin",
     "output_type": "stream",
     "text": [
      "Enter your guess: 40\n"
     ]
    },
    {
     "name": "stdout",
     "output_type": "stream",
     "text": [
      "TOO LOW, TRY AGAIN!\n"
     ]
    },
    {
     "name": "stdin",
     "output_type": "stream",
     "text": [
      "Enter your guess: 45\n"
     ]
    },
    {
     "name": "stdout",
     "output_type": "stream",
     "text": [
      "CONGRATUALTIONS!....YOU GUESSED THE CORRECT NUMBER 45 in 10 attempts\n"
     ]
    }
   ],
   "source": [
    "num_to_guess =  random.randint(1,100)\n",
    "guess = False\n",
    "attempts =0\n",
    "while num_to_guess!=guess:\n",
    "    guess = int(input(\"Enter your guess:\"))\n",
    "    attempts = attempts +1\n",
    "    if(num_to_guess <guess):\n",
    "        print(\"TOO HIGH, TRY AGAIN!\")\n",
    "     \n",
    "    elif(num_to_guess >guess):\n",
    "        print(\"TOO LOW, TRY AGAIN!\")\n",
    "       \n",
    "    else:\n",
    "        print(f\"CONGRATUALTIONS!....YOU GUESSED THE CORRECT NUMBER {guess} in {attempts} attempts\")\n",
    "    "
   ]
  },
  {
   "cell_type": "code",
   "execution_count": 3,
   "id": "f93719e0-c89a-4e8d-894e-d65458600325",
   "metadata": {},
   "outputs": [
    {
     "name": "stdin",
     "output_type": "stream",
     "text": [
      "Enter your guess: 50\n"
     ]
    },
    {
     "name": "stdout",
     "output_type": "stream",
     "text": [
      "TOO LOW, TRY AGAIN!\n"
     ]
    },
    {
     "name": "stdin",
     "output_type": "stream",
     "text": [
      "Enter your guess: 70\n"
     ]
    },
    {
     "name": "stdout",
     "output_type": "stream",
     "text": [
      "TOO LOW, TRY AGAIN!\n"
     ]
    },
    {
     "name": "stdin",
     "output_type": "stream",
     "text": [
      "Enter your guess: 80\n"
     ]
    },
    {
     "name": "stdout",
     "output_type": "stream",
     "text": [
      "TOO LOW, TRY AGAIN!\n"
     ]
    },
    {
     "name": "stdin",
     "output_type": "stream",
     "text": [
      "Enter your guess: 90\n"
     ]
    },
    {
     "name": "stdout",
     "output_type": "stream",
     "text": [
      "TOO HIGH, TRY AGAIN!\n"
     ]
    },
    {
     "name": "stdin",
     "output_type": "stream",
     "text": [
      "Enter your guess: 85\n"
     ]
    },
    {
     "name": "stdout",
     "output_type": "stream",
     "text": [
      "TOO LOW, TRY AGAIN!\n"
     ]
    },
    {
     "name": "stdin",
     "output_type": "stream",
     "text": [
      "Enter your guess: 87\n"
     ]
    },
    {
     "name": "stdout",
     "output_type": "stream",
     "text": [
      "TOO LOW, TRY AGAIN!\n"
     ]
    },
    {
     "name": "stdin",
     "output_type": "stream",
     "text": [
      "Enter your guess: 89\n"
     ]
    },
    {
     "name": "stdout",
     "output_type": "stream",
     "text": [
      "TOO HIGH, TRY AGAIN!\n"
     ]
    },
    {
     "name": "stdin",
     "output_type": "stream",
     "text": [
      "Enter your guess: 88\n"
     ]
    },
    {
     "name": "stdout",
     "output_type": "stream",
     "text": [
      "CONGRATUALTIONS!....YOU GUESSED THE CORRECT NUMBER 88 in 8 attempts\n"
     ]
    }
   ],
   "source": [
    "import mysql.connector\n",
    "import pandas as pd\n",
    "from datetime import datetime\n",
    "import random \n",
    "\n",
    "host = 'localhost'\n",
    "port = 3306\n",
    "password = '2655'\n",
    "user = 'root'\n",
    "database = 'guessing_game'\n",
    "\n",
    "def connect():\n",
    "    try:\n",
    "        conn = mysql.connector.connect(\n",
    "            host=host,\n",
    "            port=port,\n",
    "            user=user,\n",
    "            password=password,\n",
    "            database=database\n",
    "        )\n",
    "        return conn\n",
    "    except mysql.connector.Error as e:\n",
    "        print(f\"Error connecting to mysql:{e}\")\n",
    "        return None\n",
    "\n",
    "def setupdatabase():\n",
    "    conn = connect()\n",
    "    if conn:\n",
    "        cursor = conn.cursor()\n",
    "        cursor.execute('''\n",
    "            create table if not exists guessing_data(\n",
    "                COMPUTER_GUESS INT NOT NULL,\n",
    "                YOUR_GUESS INT NOT NULL,\n",
    "                NO_OF_ATTEMPTS INT NOT NULL,\n",
    "                DATE_TIME DATETIME\n",
    "                )\n",
    "                '''\n",
    "                )\n",
    "        conn.commit()\n",
    "        conn.close()  \n",
    "\n",
    "def game():\n",
    "    setupdatabase()\n",
    "    conn = connect()\n",
    "    if conn:\n",
    "        cursor = conn.cursor()\n",
    "    num_to_guess =  random.randint(1,100)\n",
    "    guess = False\n",
    "    attempts =0\n",
    "    while num_to_guess!=guess:\n",
    "        guess = int(input(\"Enter your guess:\"))\n",
    "        attempts = attempts +1\n",
    "        if(num_to_guess <guess):\n",
    "            print(\"TOO HIGH, TRY AGAIN!\")\n",
    "    \n",
    "        elif(num_to_guess >guess):\n",
    "            print(\"TOO LOW, TRY AGAIN!\")\n",
    "       \n",
    "        else:\n",
    "            print(f\"CONGRATUALTIONS!....YOU GUESSED THE CORRECT NUMBER {guess} in {attempts} attempts\")\n",
    "            cursor.execute('''\n",
    "            insert into guessing_data(\n",
    "                COMPUTER_GUESS,\n",
    "                YOUR_GUESS,\n",
    "                NO_OF_ATTEMPTS,\n",
    "                DATE_TIME) values (%s,%s,%s,%s)\n",
    "                ''', (num_to_guess, guess, attempts, datetime.now()))\n",
    "                 \n",
    "            conn.commit()\n",
    "            conn.close()\n",
    "\n",
    "game()"
   ]
  },
  {
   "cell_type": "code",
   "execution_count": null,
   "id": "20826aa6-fb3f-4259-8c05-b10ade4a2f2c",
   "metadata": {},
   "outputs": [],
   "source": []
  },
  {
   "cell_type": "code",
   "execution_count": null,
   "id": "c75bbd7d-6248-466a-9b84-2df6ecc218e6",
   "metadata": {},
   "outputs": [],
   "source": []
  }
 ],
 "metadata": {
  "kernelspec": {
   "display_name": "Python 3 (ipykernel)",
   "language": "python",
   "name": "python3"
  },
  "language_info": {
   "codemirror_mode": {
    "name": "ipython",
    "version": 3
   },
   "file_extension": ".py",
   "mimetype": "text/x-python",
   "name": "python",
   "nbconvert_exporter": "python",
   "pygments_lexer": "ipython3",
   "version": "3.11.7"
  }
 },
 "nbformat": 4,
 "nbformat_minor": 5
}
