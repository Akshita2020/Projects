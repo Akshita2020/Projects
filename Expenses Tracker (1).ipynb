{
 "cells": [
  {
   "cell_type": "code",
   "execution_count": 1,
   "id": "6407b346-223b-47ba-9737-341f361ce979",
   "metadata": {},
   "outputs": [
    {
     "data": {
      "text/plain": [
       "'\\n1. Expense Tracker\\nCreate a program that allows users to track their expenses. The program should:\\n•\\tAllow users to add, remove, and view expenses.\\n•\\tCategorize expenses (e.g., food, transportation, utilities).\\n•\\tCalculate total expenses and expenses per category.\\n•\\tSave expenses to a file and load them on startup.\\n'"
      ]
     },
     "execution_count": 1,
     "metadata": {},
     "output_type": "execute_result"
    }
   ],
   "source": [
    "'''\n",
    "1. Expense Tracker\n",
    "Create a program that allows users to track their expenses. The program should:\n",
    "•\tAllow users to add, remove, and view expenses.\n",
    "•\tCategorize expenses (e.g., food, transportation, utilities).\n",
    "•\tCalculate total expenses and expenses per category.\n",
    "•\tSave expenses to a file and load them on startup.\n",
    "'''"
   ]
  },
  {
   "cell_type": "code",
   "execution_count": 1,
   "id": "ffbcc684-d355-46f9-89ad-ee81d0158e42",
   "metadata": {},
   "outputs": [
    {
     "name": "stdout",
     "output_type": "stream",
     "text": [
      "\n",
      "Welcome to the expense tracker system!\n",
      "1. Add an expense\n",
      "2. Remove an expense\n",
      "3. View your expenses\n",
      "4. Search an expense\n",
      "5. Exit\n"
     ]
    },
    {
     "name": "stdin",
     "output_type": "stream",
     "text": [
      "Enter your choice:  1\n",
      "Enter the expense ID:  4\n",
      "Enter the sub-category:  Samosa\n",
      "Enter the category:  food\n",
      "Enter the amount:  50\n"
     ]
    },
    {
     "name": "stdout",
     "output_type": "stream",
     "text": [
      "Expense added successfully\n",
      "\n",
      "Welcome to the expense tracker system!\n",
      "1. Add an expense\n",
      "2. Remove an expense\n",
      "3. View your expenses\n",
      "4. Search an expense\n",
      "5. Exit\n"
     ]
    },
    {
     "name": "stdin",
     "output_type": "stream",
     "text": [
      "Enter your choice:  2\n",
      "Enter the expense ID to remove:  1\n"
     ]
    },
    {
     "name": "stdout",
     "output_type": "stream",
     "text": [
      "Expense with that ID not found.\n",
      "\n",
      "Welcome to the expense tracker system!\n",
      "1. Add an expense\n",
      "2. Remove an expense\n",
      "3. View your expenses\n",
      "4. Search an expense\n",
      "5. Exit\n"
     ]
    },
    {
     "name": "stdin",
     "output_type": "stream",
     "text": [
      "Enter your choice:  3\n"
     ]
    },
    {
     "name": "stderr",
     "output_type": "stream",
     "text": [
      "C:\\Users\\Akshita Tiwari\\AppData\\Local\\Temp\\ipykernel_8724\\1104878408.py:70: UserWarning: pandas only supports SQLAlchemy connectable (engine/connection) or database string URI or sqlite3 DBAPI2 connection. Other DBAPI2 objects are not tested. Please consider using SQLAlchemy.\n",
      "  df = pd.read_sql_query(\"SELECT * FROM expenses\", conn)\n"
     ]
    },
    {
     "name": "stdout",
     "output_type": "stream",
     "text": [
      " expense_id sub_category category  amount\n",
      "          2       samosa     food    20.0\n",
      "          4       Samosa     food    50.0\n",
      "\n",
      "Welcome to the expense tracker system!\n",
      "1. Add an expense\n",
      "2. Remove an expense\n",
      "3. View your expenses\n",
      "4. Search an expense\n",
      "5. Exit\n"
     ]
    },
    {
     "name": "stdin",
     "output_type": "stream",
     "text": [
      "Enter your choice:  4\n",
      "Enter the expense ID:  4\n"
     ]
    },
    {
     "name": "stderr",
     "output_type": "stream",
     "text": [
      "C:\\Users\\Akshita Tiwari\\AppData\\Local\\Temp\\ipykernel_8724\\1104878408.py:81: UserWarning: pandas only supports SQLAlchemy connectable (engine/connection) or database string URI or sqlite3 DBAPI2 connection. Other DBAPI2 objects are not tested. Please consider using SQLAlchemy.\n",
      "  df = pd.read_sql_query(\"SELECT * FROM expenses WHERE expense_id = %s\", conn, params=(your_id,))\n"
     ]
    },
    {
     "name": "stdout",
     "output_type": "stream",
     "text": [
      " expense_id sub_category category  amount\n",
      "          4       Samosa     food    50.0\n",
      "\n",
      "Welcome to the expense tracker system!\n",
      "1. Add an expense\n",
      "2. Remove an expense\n",
      "3. View your expenses\n",
      "4. Search an expense\n",
      "5. Exit\n"
     ]
    },
    {
     "name": "stdin",
     "output_type": "stream",
     "text": [
      "Enter your choice:  5\n"
     ]
    },
    {
     "name": "stdout",
     "output_type": "stream",
     "text": [
      "Thank you for using expense tracker system. Goodbye!\n"
     ]
    }
   ],
   "source": [
    "import mysql.connector \n",
    "import pandas as pd\n",
    "\n",
    "host = '127.0.0.1'\n",
    "port = 3306\n",
    "user = 'root'\n",
    "password = '2655'\n",
    "database = 'expense_tracker'\n",
    "\n",
    "def connect():\n",
    "    try:\n",
    "        conn = mysql.connector.connect(\n",
    "            host=host,\n",
    "            port=port,\n",
    "            user=user,\n",
    "            password=password,\n",
    "            database=database\n",
    "        )\n",
    "        \n",
    "        return conn\n",
    "    except mysql.connector.Error as e:\n",
    "        print(f\"Error connecting to MySQL: {e}\")\n",
    "        return None\n",
    "\n",
    "def setup_database():\n",
    "    conn = connect()\n",
    "    if conn:\n",
    "        cursor = conn.cursor()\n",
    "        cursor.execute('''\n",
    "        CREATE TABLE IF NOT EXISTS expenses\n",
    "        (expense_id INT PRIMARY KEY, sb_category VARCHAR(255), category VARCHAR(255), amount FLOAT)\n",
    "        ''')\n",
    "        conn.commit()\n",
    "        conn.close()\n",
    "\n",
    "def add_expenses():\n",
    "    expense_id = int(input(\"Enter the expense ID: \"))\n",
    "    sub_category = input(\"Enter the sub-category: \")\n",
    "    category = input(\"Enter the category: \")\n",
    "    amount = float(input(\"Enter the amount: \"))\n",
    "    \n",
    "    conn = connect()\n",
    "    if conn:\n",
    "        cursor = conn.cursor()\n",
    "        try:\n",
    "            cursor.execute(\"INSERT INTO expenses (expense_id, sub_category, category, amount) VALUES (%s, %s, %s, %s)\", \n",
    "                           (expense_id, sub_category, category, amount))\n",
    "            conn.commit()\n",
    "            print(\"Expense added successfully\")\n",
    "        except mysql.connector.Error as e:\n",
    "            print(f\"Error adding expense: {e}\")\n",
    "        conn.close()\n",
    "\n",
    "def remove_expenses():\n",
    "    your_id = int(input(\"Enter the expense ID to remove: \"))\n",
    "    conn = connect()\n",
    "    if conn:\n",
    "        cursor = conn.cursor()\n",
    "        cursor.execute(\"DELETE FROM expenses WHERE expense_id = %s\", (your_id,))\n",
    "        if cursor.rowcount > 0:\n",
    "            print(\"Expense removed successfully!\")\n",
    "        else:\n",
    "            print(\"Expense with that ID not found.\")\n",
    "        conn.commit()\n",
    "        conn.close()\n",
    "\n",
    "def view_expenses():\n",
    "    conn = connect()\n",
    "    if conn:\n",
    "        df = pd.read_sql_query(\"SELECT * FROM expenses\", conn)\n",
    "        if df.empty:\n",
    "            print(\"No expenses found!\")\n",
    "        else:\n",
    "            print(df.to_string(index=False))\n",
    "        conn.close()\n",
    "\n",
    "def search_expenses():\n",
    "    your_id = int(input(\"Enter the expense ID: \"))\n",
    "    conn = connect()\n",
    "    if conn:\n",
    "        df = pd.read_sql_query(\"SELECT * FROM expenses WHERE expense_id = %s\", conn, params=(your_id,))\n",
    "        if df.empty:\n",
    "            print(\"No such Expense found!\")\n",
    "        else:\n",
    "            print(df.to_string(index=False))\n",
    "        conn.close()\n",
    "\n",
    "def menu():\n",
    "    setup_database()  # Set up the database when the program starts\n",
    "    while True:\n",
    "        print(\"\\nWelcome to the expense tracker system!\")\n",
    "        print(\"1. Add an expense\")\n",
    "        print(\"2. Remove an expense\")\n",
    "        print(\"3. View your expenses\")\n",
    "        print(\"4. Search an expense\")\n",
    "        print(\"5. Exit\")\n",
    "        choice = int(input(\"Enter your choice: \"))\n",
    "    \n",
    "        if choice == 1:\n",
    "            add_expenses()\n",
    "        elif choice == 2:\n",
    "            remove_expenses()\n",
    "        elif choice == 3:\n",
    "            view_expenses()\n",
    "        elif choice == 4:\n",
    "            search_expenses()\n",
    "        elif choice == 5:\n",
    "            print(\"Thank you for using expense tracker system. Goodbye!\")\n",
    "            break\n",
    "        else:\n",
    "            print(\"Invalid choice. Please try again.\")\n",
    "\n",
    "menu()"
   ]
  },
  {
   "cell_type": "code",
   "execution_count": null,
   "id": "a879cc94-3d0f-4684-8936-77c11fa0e3ee",
   "metadata": {},
   "outputs": [],
   "source": []
  }
 ],
 "metadata": {
  "kernelspec": {
   "display_name": "Python 3 (ipykernel)",
   "language": "python",
   "name": "python3"
  },
  "language_info": {
   "codemirror_mode": {
    "name": "ipython",
    "version": 3
   },
   "file_extension": ".py",
   "mimetype": "text/x-python",
   "name": "python",
   "nbconvert_exporter": "python",
   "pygments_lexer": "ipython3",
   "version": "3.11.7"
  }
 },
 "nbformat": 4,
 "nbformat_minor": 5
}
